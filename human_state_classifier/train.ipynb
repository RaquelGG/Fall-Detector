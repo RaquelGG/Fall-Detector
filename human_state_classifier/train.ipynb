{
 "cells": [
  {
   "cell_type": "markdown",
   "source": [
    "# Entrenamiento para detectar caídas\n",
    "## Importaciones"
   ],
   "metadata": {
    "collapsed": false
   }
  },
  {
   "cell_type": "code",
   "execution_count": 13,
   "metadata": {
    "collapsed": true
   },
   "outputs": [],
   "source": [
    "import cv2\n",
    "import numpy as np\n",
    "import os\n",
    "from pose_estimation import PoseEstimation\n",
    "import pandas"
   ]
  },
  {
   "cell_type": "markdown",
   "source": [
    "## Constantes"
   ],
   "metadata": {
    "collapsed": false
   }
  },
  {
   "cell_type": "code",
   "execution_count": 14,
   "outputs": [],
   "source": [
    "videos_path = \"videos/\"\n",
    "expected_pixels = 257\n",
    "frame_rate = 5\n",
    "body_parts = [\"nose\", \"leftEye\", \"rightEye\", \"leftEar\", \"rightEar\", \"leftShoulder\", \"rightShoulder\",\n",
    "                  \"leftElbow\", \"rightElbow\", \"leftWrist\", \"rightWrist\", \"leftHip\", \"rightHip\", \"leftKnee\",\n",
    "                  \"rightKnee\", \"leftAnkle\", \"rightAnkle\"]\n",
    "\n"
   ],
   "metadata": {
    "collapsed": false,
    "pycharm": {
     "name": "#%%\n"
    }
   }
  },
  {
   "cell_type": "code",
   "execution_count": 15,
   "outputs": [],
   "source": [
    "def make_square(img, expected_pixels):\n",
    "    max_side = max(img.shape[0:2])\n",
    "\n",
    "    # Background square\n",
    "    square_img = np.zeros((max_side, max_side, 3), np.uint8)\n",
    "\n",
    "    # Getting the centering position\n",
    "    ax, ay = (max_side - img.shape[1]) // 2, (max_side - img.shape[0]) // 2\n",
    "\n",
    "    # Pasting the image in a centering position\n",
    "    square_img[ay:img.shape[0] + ay, ax:ax + img.shape[1]] = img\n",
    "\n",
    "    return cv2.resize(square_img, (expected_pixels, expected_pixels))"
   ],
   "metadata": {
    "collapsed": false,
    "pycharm": {
     "name": "#%%\n"
    }
   }
  },
  {
   "cell_type": "markdown",
   "source": [
    "## Preprocesamiento\n",
    "#### En primer lugar abrimos el directorio donde se encuentran los vídeos, es importante que en esta carpeta (videos) solo hayan carpetas que contengan vídeos de 3 segundos\n",
    "Se extraen las diferentes partes del cuerpo del modelo Posenet y se normalizan los datos.\n",
    "\n",
    "La entrada del algoritmo de aprendizaje será así:\n",
    "\n",
    "- Frame0_nose_X,Frame0_nose_Y,…,Frame[i]_[keypoint_j]_X, Frame[i]_[keypoint_j]_Y,…,[resultado].\n",
    "Siéndo [i] el número de frame, [keypoint_j] la parte del cuerpo y [resultado] el estado al que corresponden los datos.\n",
    "\n",
    "\n",
    "Donde cada línea es un vídeo."
   ],
   "metadata": {
    "collapsed": false
   }
  },
  {
   "cell_type": "code",
   "execution_count": 16,
   "outputs": [],
   "source": [
    "# Cogemos el nombre de las clases (los estados) de las carpetas que contienen los vídeos\n",
    "class_names = [x[0].split(\"/\")[1] for x in os.walk(videos_path)][1:]\n",
    "data = None\n",
    "pe = PoseEstimation()\n",
    "for class_name in class_names:\n",
    "    videos = [x[2] for x in os.walk(\"{}{}\".format(videos_path, class_name))][0]\n",
    "    for file in videos:\n",
    "        video_data = None\n",
    "        video = cv2.VideoCapture(\"{}{}/{}\".format(videos_path, class_name, file))\n",
    "        video_rate = int(np.round(video.get(cv2.CAP_PROP_FPS) / frame_rate))\n",
    "        while video.isOpened():\n",
    "            frame_number = video.get(1) # current frame number\n",
    "            ret, frame = video.read()\n",
    "            if not ret: break\n",
    "            if frame_number % video_rate == 0:\n",
    "                frame = make_square(frame, pe.expected_pixels)\n",
    "                pose = pe.get_pose_estimation(frame)\n",
    "\n",
    "                # Normalizing position\n",
    "                #average_x = np.mean(pose[:, 0])\n",
    "                #average_y = np.mean(pose[:, 1])\n",
    "                #pose[:, 0] = pose[:, 0] - average_x\n",
    "                #pose[:, 1] = pose[:, 1] - average_y\n",
    "\n",
    "                # Normalizing scale\n",
    "                max_val = np.max(np.abs(pose))\n",
    "                pose[:] = pose[:] / max_val\n",
    "\n",
    "                pose = pose.reshape(-1)\n",
    "                if video_data is None:\n",
    "                    video_data = pose\n",
    "                else:\n",
    "                    video_data = np.hstack((video_data, pose))\n",
    "        video.release()\n",
    "        video_data = np.append(video_data, class_name)\n",
    "        if data is None:\n",
    "            data = video_data\n",
    "        else:\n",
    "            data = np.vstack((data, video_data))"
   ],
   "metadata": {
    "collapsed": false,
    "pycharm": {
     "name": "#%%\n"
    }
   }
  },
  {
   "cell_type": "markdown",
   "source": [
    "Ponemos nombre a las cabeceras y guardamos los resultados en un archivo .csv"
   ],
   "metadata": {
    "collapsed": false
   }
  },
  {
   "cell_type": "code",
   "execution_count": 17,
   "outputs": [],
   "source": [
    "header = None\n",
    "\n",
    "body_parts_len = len(body_parts)\n",
    "data_len = len(data[0]) -1\n",
    "elements_per_part = 2 #  porque cada parte del cuerpo tiene X e Y\n",
    "frame = -1\n",
    "for i in range(0, data_len, elements_per_part):\n",
    "    if i % body_parts_len == 0:\n",
    "        frame += 1\n",
    "    body_part = body_parts[int(i/elements_per_part)%body_parts_len]\n",
    "    title = \"Frame_{}_{}\".format(frame, body_part)\n",
    "    if header is None:\n",
    "        header = \"{}_X\".format(title)\n",
    "    else:\n",
    "        header = np.hstack((header, \"{}_X\".format(title)))\n",
    "    header = np.hstack((header, \"{}_Y\".format(title)))\n",
    "    #header = np.hstack((header, \"{}_Reliable\".format(title)))\n",
    "header = np.hstack((header, \"class\"))\n",
    "\n",
    "pandas.DataFrame(data).to_csv(\"data/data.csv\", header=header, index=False)"
   ],
   "metadata": {
    "collapsed": false,
    "pycharm": {
     "name": "#%%\n"
    }
   }
  },
  {
   "cell_type": "markdown",
   "source": [
    "## Entrenamiento\n",
    "Creamos el set de validación"
   ],
   "metadata": {
    "collapsed": false
   }
  },
  {
   "cell_type": "code",
   "execution_count": 18,
   "outputs": [],
   "source": [
    "from sklearn.model_selection import train_test_split\n",
    "\n",
    "data = pandas.read_csv(\"data/data.csv\")\n",
    "y = data[:]['class']\n",
    "data = data.iloc[: , :-1]\n",
    "x_train, x_test, y_train, y_test = train_test_split(data, y, random_state=42, test_size=0.2)"
   ],
   "metadata": {
    "collapsed": false,
    "pycharm": {
     "name": "#%%\n"
    }
   }
  },
  {
   "cell_type": "markdown",
   "source": [
    "### Aplicamos un algoritmo de aprendizaje\n",
    "[RandomForestClassifier]"
   ],
   "metadata": {
    "collapsed": false
   }
  },
  {
   "cell_type": "code",
   "execution_count": 19,
   "outputs": [
    {
     "data": {
      "text/plain": "RandomForestClassifier()"
     },
     "execution_count": 19,
     "metadata": {},
     "output_type": "execute_result"
    }
   ],
   "source": [
    "from sklearn.ensemble import RandomForestClassifier\n",
    "base_model = RandomForestClassifier()\n",
    "base_model.fit(x_train, y_train)"
   ],
   "metadata": {
    "collapsed": false,
    "pycharm": {
     "name": "#%%\n"
    }
   }
  },
  {
   "cell_type": "markdown",
   "source": [
    "## Guardamos el modelo"
   ],
   "metadata": {
    "collapsed": false
   }
  },
  {
   "cell_type": "code",
   "execution_count": 20,
   "outputs": [],
   "source": [
    "import pickle\n",
    "pickle.dump(base_model, open(\"model/fall_detection.sav\", 'wb'))"
   ],
   "metadata": {
    "collapsed": false,
    "pycharm": {
     "name": "#%%\n"
    }
   }
  },
  {
   "cell_type": "markdown",
   "source": [
    "## Cargamos el modelo"
   ],
   "metadata": {
    "collapsed": false,
    "pycharm": {
     "name": "#%% md\n"
    }
   }
  },
  {
   "cell_type": "code",
   "execution_count": 21,
   "outputs": [],
   "source": [
    "import pickle\n",
    "base_model = pickle.load(open(\"model/fall_detection.sav\", 'rb'))"
   ],
   "metadata": {
    "collapsed": false,
    "pycharm": {
     "name": "#%%\n"
    }
   }
  },
  {
   "cell_type": "markdown",
   "source": [
    "Realizamos pruebas con el modelo"
   ],
   "metadata": {
    "collapsed": false
   }
  },
  {
   "cell_type": "code",
   "execution_count": 22,
   "outputs": [
    {
     "name": "stdout",
     "output_type": "stream",
     "text": [
      "Random Forest Classifier report \n",
      "               precision    recall  f1-score   support\n",
      "\n",
      "        Fall       0.89      0.89      0.89         9\n",
      "     Nothing       1.00      0.89      0.94         9\n",
      "     Recover       0.86      1.00      0.92         6\n",
      "\n",
      "    accuracy                           0.92        24\n",
      "   macro avg       0.92      0.93      0.92        24\n",
      "weighted avg       0.92      0.92      0.92        24\n",
      "\n",
      "<sklearn.metrics._plot.confusion_matrix.ConfusionMatrixDisplay object at 0x0000018F06123BE0>\n"
     ]
    },
    {
     "data": {
      "text/plain": "<Figure size 432x288 with 2 Axes>",
      "image/png": "[encoded data removed]"
     },
     "metadata": {
      "needs_background": "light"
     },
     "output_type": "display_data"
    }
   ],
   "source": [
    "from sklearn.metrics import classification_report, confusion_matrix, plot_confusion_matrix\n",
    "\n",
    "y_pred = base_model.predict(x_test)\n",
    "print(\"Random Forest Classifier report \\n\", classification_report(y_test, y_pred))\n",
    "print(plot_confusion_matrix(base_model, x_test, y_test, display_labels=class_names))"
   ],
   "metadata": {
    "collapsed": false,
    "pycharm": {
     "name": "#%%\n"
    }
   }
  },
  {
   "cell_type": "code",
   "execution_count": 22,
   "outputs": [],
   "source": [],
   "metadata": {
    "collapsed": false,
    "pycharm": {
     "name": "#%%\n"
    }
   }
  }
 ],
 "metadata": {
  "kernelspec": {
   "display_name": "Python 3",
   "language": "python",
   "name": "python3"
  },
  "language_info": {
   "codemirror_mode": {
    "name": "ipython",
    "version": 2
   },
   "file_extension": ".py",
   "mimetype": "text/x-python",
   "name": "python",
   "nbconvert_exporter": "python",
   "pygments_lexer": "ipython2",
   "version": "2.7.6"
  }
 },
 "nbformat": 4,
 "nbformat_minor": 0
}