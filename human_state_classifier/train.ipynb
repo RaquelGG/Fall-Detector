{
 "cells": [
  {
   "cell_type": "markdown",
   "source": [
    "# Entrenamiento para detectar caídas\n",
    "## Importaciones"
   ],
   "metadata": {
    "collapsed": false
   }
  },
  {
   "cell_type": "code",
   "execution_count": 26,
   "metadata": {
    "collapsed": true
   },
   "outputs": [],
   "source": [
    "import cv2\n",
    "import numpy as np\n",
    "import os\n",
    "from pose_estimation import PoseEstimation\n",
    "import pandas"
   ]
  },
  {
   "cell_type": "markdown",
   "source": [
    "## Constantes"
   ],
   "metadata": {
    "collapsed": false
   }
  },
  {
   "cell_type": "code",
   "execution_count": 27,
   "outputs": [],
   "source": [
    "videos_path = \"videos/\"\n",
    "expected_pixels = 257\n",
    "frame_rate = 5\n",
    "body_parts = [\"nose\", \"leftEye\", \"rightEye\", \"leftEar\", \"rightEar\", \"leftShoulder\", \"rightShoulder\",\n",
    "                  \"leftElbow\", \"rightElbow\", \"leftWrist\", \"rightWrist\", \"leftHip\", \"rightHip\", \"leftKnee\",\n",
    "                  \"rightKnee\", \"leftAnkle\", \"rightAnkle\"]"
   ],
   "metadata": {
    "collapsed": false,
    "pycharm": {
     "name": "#%%\n"
    }
   }
  },
  {
   "cell_type": "markdown",
   "source": [
    "## Preprocesamiento\n",
    "#### En primer lugar abrimos el directorio donde se encuentran los vídeos, es importante que en esta carpeta (videos) solo hayan carpetas que contengan vídeos de 3 segundos\n",
    "Se extraen las diferentes partes del cuerpo del modelo Posenet y se normalizan los datos.\n",
    "\n",
    "La entrada del algoritmo de aprendizaje será así:\n",
    "\n",
    "- Frame0_nose_X,Frame0_nose_Y,…,Frame[i]_[keypoint_j]_X, Frame[i]_[keypoint_j]_Y,…,[resultado].\n",
    "Siéndo [i] el número de frame, [keypoint_j] la parte del cuerpo y [resultado] el estado al que corresponden los datos.\n",
    "\n",
    "\n",
    "Donde cada línea es un vídeo."
   ],
   "metadata": {
    "collapsed": false
   }
  },
  {
   "cell_type": "code",
   "execution_count": 28,
   "outputs": [],
   "source": [
    "# Cogemos el nombre de las clases (los estados) de las carpetas que contienen los vídeos\n",
    "class_names = [x[0].split(\"/\")[1] for x in os.walk(videos_path)][1:]\n",
    "data = None\n",
    "pe = PoseEstimation()\n",
    "for class_name in class_names:\n",
    "    videos = [x[2] for x in os.walk(\"{}{}\".format(videos_path, class_name))][0]\n",
    "    for file in videos:\n",
    "        video_data = None\n",
    "        video = cv2.VideoCapture(\"{}{}/{}\".format(videos_path, class_name, file))\n",
    "        video_rate = int(np.round(video.get(cv2.CAP_PROP_FPS) / frame_rate))\n",
    "        while video.isOpened():\n",
    "            frame_number = video.get(1) # current frame number\n",
    "            ret, frame = video.read()\n",
    "            if not ret: break\n",
    "            if frame_number % video_rate == 0:\n",
    "                frame = pe.make_square(frame, pe.expected_pixels)\n",
    "                pose = pe.get_pose_estimation(frame)\n",
    "\n",
    "                # Normalizing position\n",
    "                #average_x = np.mean(pose[:, 0])\n",
    "                #average_y = np.mean(pose[:, 1])\n",
    "                #pose[:, 0] = pose[:, 0] - average_x\n",
    "                #pose[:, 1] = pose[:, 1] - average_y\n",
    "\n",
    "                # Normalizing scale\n",
    "                max_val = np.max(np.abs(pose))\n",
    "                pose[:] = pose[:] / max_val\n",
    "\n",
    "                pose = pose.reshape(-1)\n",
    "                if video_data is None:\n",
    "                    video_data = pose\n",
    "                else:\n",
    "                    video_data = np.hstack((video_data, pose))\n",
    "        video.release()\n",
    "        video_data = np.append(video_data, class_name)\n",
    "        if data is None:\n",
    "            data = video_data\n",
    "        else:\n",
    "            data = np.vstack((data, video_data))"
   ],
   "metadata": {
    "collapsed": false,
    "pycharm": {
     "name": "#%%\n"
    }
   }
  },
  {
   "cell_type": "markdown",
   "source": [
    "Ponemos nombre a las cabeceras y guardamos los resultados en un archivo .csv"
   ],
   "metadata": {
    "collapsed": false
   }
  },
  {
   "cell_type": "code",
   "execution_count": 29,
   "outputs": [],
   "source": [
    "header = None\n",
    "\n",
    "body_parts_len = len(body_parts)\n",
    "data_len = len(data[0]) -1\n",
    "elements_per_part = 2 #  porque cada parte del cuerpo tiene X e Y\n",
    "frame = -1\n",
    "for i in range(0, data_len, elements_per_part):\n",
    "    if i % body_parts_len == 0:\n",
    "        frame += 1\n",
    "    body_part = body_parts[int(i/elements_per_part)%body_parts_len]\n",
    "    title = \"Frame_{}_{}\".format(frame, body_part)\n",
    "    if header is None:\n",
    "        header = \"{}_X\".format(title)\n",
    "    else:\n",
    "        header = np.hstack((header, \"{}_X\".format(title)))\n",
    "    header = np.hstack((header, \"{}_Y\".format(title)))\n",
    "    #header = np.hstack((header, \"{}_Reliable\".format(title)))\n",
    "header = np.hstack((header, \"class\"))\n",
    "\n",
    "pandas.DataFrame(data).to_csv(\"data/data.csv\", header=header, index=False)"
   ],
   "metadata": {
    "collapsed": false,
    "pycharm": {
     "name": "#%%\n"
    }
   }
  },
  {
   "cell_type": "markdown",
   "source": [
    "## Entrenamiento\n",
    "Creamos el set de validación"
   ],
   "metadata": {
    "collapsed": false
   }
  },
  {
   "cell_type": "code",
   "execution_count": 520,
   "outputs": [],
   "source": [
    "import pandas\n",
    "from sklearn.model_selection import train_test_split\n",
    "\n",
    "data = pandas.read_csv(\"data/data.csv\")\n",
    "y = data[:]['class']\n",
    "data = data.iloc[: , :-1]\n",
    "x_train, x_test, y_train, y_test = train_test_split(data, y, random_state=42, test_size=0.2)"
   ],
   "metadata": {
    "collapsed": false,
    "pycharm": {
     "name": "#%%\n"
    }
   }
  },
  {
   "cell_type": "markdown",
   "source": [
    "Método para mostrar los resultados para cada algoritmo"
   ],
   "metadata": {
    "collapsed": false
   }
  },
  {
   "cell_type": "code",
   "execution_count": 504,
   "outputs": [],
   "source": [
    "from sklearn.metrics import classification_report, plot_confusion_matrix\n",
    "def mostrar_resultados(modelo, algoritmo):\n",
    "    y_pred = modelo.predict(x_test)\n",
    "    print(\"{} report \\n\".format(algoritmo), classification_report(y_test, y_pred))\n",
    "    print(plot_confusion_matrix(modelo, x_test, y_test, display_labels=class_names))\n",
    "\n",
    "    # Falsos positivos y falsos negativos de caídas\n",
    "    fp = 0\n",
    "    fn = 0\n",
    "    np_y_test = y_test.to_numpy()\n",
    "    for j in range(len(y_pred)):\n",
    "        if y_pred[j] == \"Fall\" != np_y_test[j]:\n",
    "            fp = fp + 1\n",
    "        elif np_y_test[j] == \"Fall\" != y_pred[j]:\n",
    "            fn = fn + 1\n",
    "    print(\"FP = {} | FN = {}\".format(fp, fn))\n"
   ],
   "metadata": {
    "collapsed": false,
    "pycharm": {
     "name": "#%%\n"
    }
   }
  },
  {
   "cell_type": "markdown",
   "source": [
    "### Aplicamos un algoritmo de aprendizaje\n",
    "### RandomForestClassifier"
   ],
   "metadata": {
    "collapsed": false
   }
  },
  {
   "cell_type": "code",
   "execution_count": 507,
   "outputs": [
    {
     "name": "stdout",
     "output_type": "stream",
     "text": [
      "Random Forest Classifier report \n",
      "               precision    recall  f1-score   support\n",
      "\n",
      "        Fall       0.89      0.89      0.89         9\n",
      "     Nothing       1.00      0.90      0.95        10\n",
      "     Recover       0.86      1.00      0.92         6\n",
      "\n",
      "    accuracy                           0.92        25\n",
      "   macro avg       0.92      0.93      0.92        25\n",
      "weighted avg       0.93      0.92      0.92        25\n",
      "\n",
      "<sklearn.metrics._plot.confusion_matrix.ConfusionMatrixDisplay object at 0x000002888BBBD250>\n",
      "FP = 1 | FN = 1\n"
     ]
    },
    {
     "data": {
      "text/plain": "<Figure size 432x288 with 2 Axes>",
      "image/png": "[encoded data removed]"
     },
     "metadata": {
      "needs_background": "light"
     },
     "output_type": "display_data"
    }
   ],
   "source": [
    "from sklearn.ensemble import RandomForestClassifier\n",
    "random_forest_model = RandomForestClassifier(criterion=\"gini\", min_samples_split=2, max_depth=None, n_estimators=50, random_state=16)\n",
    "random_forest_model.fit(x_train, y_train)\n",
    "mostrar_resultados(random_forest_model, \"Random Forest Classifier\")"
   ],
   "metadata": {
    "collapsed": false,
    "pycharm": {
     "name": "#%%\n"
    }
   }
  },
  {
   "cell_type": "markdown",
   "source": [
    "### Neural Networks"
   ],
   "metadata": {
    "collapsed": false
   }
  },
  {
   "cell_type": "code",
   "execution_count": 404,
   "outputs": [
    {
     "name": "stdout",
     "output_type": "stream",
     "text": [
      "Neural Network Classifier report \n",
      "               precision    recall  f1-score   support\n",
      "\n",
      "        Fall       0.73      0.89      0.80         9\n",
      "     Nothing       1.00      0.80      0.89        10\n",
      "     Recover       0.67      0.67      0.67         6\n",
      "\n",
      "    accuracy                           0.80        25\n",
      "   macro avg       0.80      0.79      0.79        25\n",
      "weighted avg       0.82      0.80      0.80        25\n",
      "\n",
      "<sklearn.metrics._plot.confusion_matrix.ConfusionMatrixDisplay object at 0x000002888BB2E910>\n"
     ]
    },
    {
     "data": {
      "text/plain": "<Figure size 432x288 with 2 Axes>",
      "image/png": "[encoded data removed]"
     },
     "metadata": {
      "needs_background": "light"
     },
     "output_type": "display_data"
    }
   ],
   "source": [
    "from sklearn.neural_network import MLPClassifier\n",
    "neural_network_model = MLPClassifier(solver=\"lbfgs\", activation=\"identity\", hidden_layer_sizes=20)\n",
    "neural_network_model.fit(x_train, y_train)\n",
    "mostrar_resultados(neural_network_model, \"Neural Network Classifier\")\n"
   ],
   "metadata": {
    "collapsed": false,
    "pycharm": {
     "name": "#%%\n"
    }
   }
  },
  {
   "cell_type": "markdown",
   "source": [
    "### Gradient Boosting Tree"
   ],
   "metadata": {
    "collapsed": false
   }
  },
  {
   "cell_type": "code",
   "execution_count": 506,
   "outputs": [
    {
     "name": "stdout",
     "output_type": "stream",
     "text": [
      "Gradient Boosting Classifier report \n",
      "               precision    recall  f1-score   support\n",
      "\n",
      "        Fall       0.78      0.78      0.78         9\n",
      "     Nothing       0.89      0.80      0.84        10\n",
      "     Recover       0.86      1.00      0.92         6\n",
      "\n",
      "    accuracy                           0.84        25\n",
      "   macro avg       0.84      0.86      0.85        25\n",
      "weighted avg       0.84      0.84      0.84        25\n",
      "\n",
      "<sklearn.metrics._plot.confusion_matrix.ConfusionMatrixDisplay object at 0x00000288864F3E20>\n",
      "FP = 2 | FN = 2\n"
     ]
    },
    {
     "data": {
      "text/plain": "<Figure size 432x288 with 2 Axes>",
      "image/png": "[encoded data removed]"
     },
     "metadata": {
      "needs_background": "light"
     },
     "output_type": "display_data"
    }
   ],
   "source": [
    "from sklearn.ensemble import GradientBoostingClassifier\n",
    "gradient_boosting_model = GradientBoostingClassifier(learning_rate=0.1, n_estimators=50, random_state=20)\n",
    "gradient_boosting_model.fit(x_train, y_train)\n",
    "mostrar_resultados(gradient_boosting_model, \"Gradient Boosting Classifier\")\n"
   ],
   "metadata": {
    "collapsed": false,
    "pycharm": {
     "name": "#%%\n"
    }
   }
  },
  {
   "cell_type": "markdown",
   "source": [
    "## Buscamos qué algoritmo da menos falsos negativos"
   ],
   "metadata": {
    "collapsed": false
   }
  },
  {
   "cell_type": "code",
   "execution_count": 518,
   "outputs": [
    {
     "name": "stdout",
     "output_type": "stream",
     "text": [
      "Random Forest     | FP = 212, 8.48% | FN = 100, 4.0%\n",
      "Gradient Boosting | FP = 123, 4.92% | FN = 178, 7.12%\n"
     ]
    }
   ],
   "source": [
    "from sklearn.ensemble import GradientBoostingClassifier\n",
    "from sklearn.ensemble import RandomForestClassifier\n",
    "\n",
    "random_forest_fp = 0\n",
    "random_forest_fn = 0\n",
    "gradient_boosting_fp = 0\n",
    "gradient_boosting_fn = 0\n",
    "\n",
    "def get_fp_fn(predecido, real, estado, fp, fn):\n",
    "    for i in range(len(predecido)):\n",
    "        if predecido[i] == estado != real[i]:\n",
    "            fp += 1\n",
    "        elif real[i] == estado != predecido[i]:\n",
    "            fn += 1\n",
    "    return fp, fn\n",
    "\n",
    "veces_a_repetir = 100\n",
    "for i in range(veces_a_repetir):\n",
    "    rf_model = RandomForestClassifier(n_estimators=50, criterion=\"gini\", min_samples_split=2, max_depth=None)\n",
    "    gb_model = GradientBoostingClassifier(learning_rate=0.1, n_estimators=50)\n",
    "    rf_model.fit(x_train, y_train)\n",
    "    gb_model.fit(x_train, y_train)\n",
    "    rf_y = rf_model.predict(x_test)\n",
    "    gb_y = gb_model.predict(x_test)\n",
    "\n",
    "    np_y_test = y_test.to_numpy()\n",
    "    random_forest_fp, random_forest_fn = get_fp_fn(rf_y, np_y_test, \"Fall\", random_forest_fp, random_forest_fn)\n",
    "    gradient_boosting_fp, gradient_boosting_fn = get_fp_fn(gb_y, np_y_test, \"Fall\",gradient_boosting_fp, gradient_boosting_fn)\n",
    "\n",
    "muestras_totales = len(np_y_test) * veces_a_repetir\n",
    "print(\"Random Forest     | FP = {}, {}% | FN = {}, {}%\".format(random_forest_fp, random_forest_fp/muestras_totales*100,\n",
    "                                                             random_forest_fn, random_forest_fn/muestras_totales*100))\n",
    "print(\"Gradient Boosting | FP = {}, {}% | FN = {}, {}%\".format(gradient_boosting_fp, gradient_boosting_fp/muestras_totales*100,\n",
    "                                                             gradient_boosting_fn, gradient_boosting_fn/muestras_totales*100))"
   ],
   "metadata": {
    "collapsed": false,
    "pycharm": {
     "name": "#%%\n"
    }
   }
  },
  {
   "cell_type": "markdown",
   "source": [
    "## Guardamos el mejor modelo"
   ],
   "metadata": {
    "collapsed": false,
    "pycharm": {
     "name": "#%% md\n"
    }
   }
  },
  {
   "cell_type": "code",
   "execution_count": 522,
   "outputs": [],
   "source": [
    "import pickle\n",
    "\n",
    "best_random_forest_model = RandomForestClassifier(criterion=\"gini\", min_samples_split=2, max_depth=None, n_estimators=50, random_state=16)\n",
    "best_random_forest_model.fit(data, y)\n",
    "\n",
    "pickle.dump(best_random_forest_model, open(\"model/HSC.sav\", 'wb'))\n",
    "#import pickle\n",
    "#base_model = pickle.load(open(\"model/HSC.sav\", 'rb'))\n"
   ],
   "metadata": {
    "collapsed": false,
    "pycharm": {
     "name": "#%%\n"
    }
   }
  }
 ],
 "metadata": {
  "kernelspec": {
   "display_name": "Python 3",
   "language": "python",
   "name": "python3"
  },
  "language_info": {
   "codemirror_mode": {
    "name": "ipython",
    "version": 2
   },
   "file_extension": ".py",
   "mimetype": "text/x-python",
   "name": "python",
   "nbconvert_exporter": "python",
   "pygments_lexer": "ipython2",
   "version": "2.7.6"
  }
 },
 "nbformat": 4,
 "nbformat_minor": 0
}